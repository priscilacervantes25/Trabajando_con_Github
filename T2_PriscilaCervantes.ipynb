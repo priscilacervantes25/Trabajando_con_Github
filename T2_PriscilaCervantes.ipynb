{
 "cells": [
  {
   "cell_type": "markdown",
   "id": "64779991",
   "metadata": {},
   "source": [
    "# MLOps\n",
    "\n",
    "## ¿Qué es MLOps?\n",
    "Operaciones de Aprendizaje Automático (Machine Learning Operations), función que se centra en optimizar el proceso de modelos automáticos -> producción, su mantenimiento y su monitorización. Es una función colaborativa.  \n",
    "\n",
    "\n",
    "## ¿Para qué sirve MLOps?\n",
    "Creación y calidad de soluciones de aprendizaje automático. Al realizar esto, los programadores pueden colaborar y acelerar el desarrollo y la producción de modelos.\n",
    "\n",
    "## ¿Por qué necesitamos MLOps?\n",
    "El aprendizaje automático consta de muchos componentes complejos. MLOps abarca la experimentación, la iteración y la mejora continua del ciclo de vida del aprendizaje automático.\n",
    "\n",
    "## ¿Cuáles son los beneficios de MLOps?\n",
    "- Eficiencia: Permite desarrollar modelos más rápido, entregar modelos con mayor calidad y agilizar la producción. \n",
    "- Escalabilidad: Permite supervisar, controlar, gestionar y monitorizar miles de modelos. Por otro lado, la colaboración más estrecha entre los equipos de datos, reduce los conflictos y acelera la velocidad de lanzamiento.\n",
    "- Reducción de riesgos: Permite una mayor transparencia y una respuesta más rápida a dichas solicitudes, además de garantizar un mayor cumplimiento de las políticas de una organización.\n",
    "\n",
    "## ¿Cuáles son los componentes de MLOps?\n",
    "- La mayoría de las empresas implementan los principios de MLOps en los siguientes ámbitos:\n",
    "- Análisis exploratorio de datos (EDA)\n",
    "- Preparación de datos e ingeniería de características\n",
    "- Entrenamiento y ajuste de modelos\n",
    "- Revisión y gobernanza del modelo\n",
    "- Inferencia y presentación de modelos\n",
    "- Monitoreo de modelos\n",
    "- Reentrenamiento automatizado de modelos\n",
    "\n",
    "## ¿Cuáles son las mejores prácticas para MLOps?\n",
    "Se pueden delinear según la etapa en la que se aplican los principios\n",
    "- Análisis de datos exploratorios (EDA) \n",
    "- Preparación de datos e ingeniería de características:\n",
    "- Entrenamiento y ajuste de modelos \n",
    "- Revisión y gobernanza de modelos\n",
    "- Inferencia y entrega de modelos\n",
    "- Implementación y monitorización de modelos\n",
    "- Reentrenamiento automatizado de modelos\n",
    "\n",
    "## ¿Cuál es la diferencia entre MLOps y DevOps?\n",
    "MLOps es un conjunto de prácticas para proyectos de aprendizaje automático, inspirado en DevOps. DevOps agiliza el lanzamiento de aplicaciones, mientras que MLOps aplica estos principios al aprendizaje automático.\n",
    "Ambos dan una mejor calidad de software \n",
    "\n",
    "## ¿El entrenamiento de modelos de lenguaje grandes (LLMOps) difiere del entrenamiento de MLOps tradicionales?\n",
    "Uno de los puntos clave es el uso de recursos computacionales. El entrenamiento de estos modelos suele requerir cálculos mucho más complejos, por lo que se utilizan hardware especializado, como GPU, para acelerar el proceso. También hay que considerar las técnicas de compresión y destilación de modelos debido al alto coste de la inferencia.\n",
    "Otro aspecto importante es el aprendizaje por transferencia. En lugar de crear modelos desde cero, muchos modelos de lenguaje grandes se basan en un modelo que ya existe y se ajustan con nuevos datos para mejorar su rendimiento en áreas específicas. Esto permite un uso más eficiente de datos y recursos.\n",
    "La retroalimentación humana ayuda a evaluar el rendimiento de los modelos, mejorando así su efectividad.\n",
    "Además, el ajuste de hiperparámetros se vuelve más importante en LLM para mejorar la precisión y optimizar costes y potencia computacional. Por último, las métricas de rendimiento son diferentes en los LLM en comparación con los modelos tradicionales, utilizando estándares como BLEU y ROGUE para su evaluación.\n",
    "\n",
    "## ¿Qué es una plataforma MLOps?\n",
    "Ayuda a programadores trabajar juntos. Facilita la exploración de datos, el seguimiento de experimentos, la gestión de modelos y la implementación controlada de modelos."
   ]
  },
  {
   "cell_type": "markdown",
   "id": "d5870c68",
   "metadata": {},
   "source": []
  }
 ],
 "metadata": {
  "language_info": {
   "name": "python"
  }
 },
 "nbformat": 4,
 "nbformat_minor": 5
}
